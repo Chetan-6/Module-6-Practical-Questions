{
  "nbformat": 4,
  "nbformat_minor": 0,
  "metadata": {
    "colab": {
      "provenance": []
    },
    "kernelspec": {
      "name": "python3",
      "display_name": "Python 3"
    },
    "language_info": {
      "name": "python"
    }
  },
  "cells": [
    {
      "cell_type": "markdown",
      "source": [
        "Q1. Create a parent class Animal with a method speak() that prints a generic message. Create a child class Dog\n",
        "that overrides the speak() method to print \"Bark!\".\n",
        "\n",
        "  - Here's how you can create a parent class Animal with a method speak(), and a child class Dog that overrides the speak() method:\n",
        "  "
      ],
      "metadata": {
        "id": "JvI3LTaguMZ3"
      }
    },
    {
      "cell_type": "code",
      "execution_count": 1,
      "metadata": {
        "colab": {
          "base_uri": "https://localhost:8080/"
        },
        "id": "mJXOHUzVt1lz",
        "outputId": "e3d38c42-640c-4f11-bfec-621ddc271ed6"
      },
      "outputs": [
        {
          "output_type": "stream",
          "name": "stdout",
          "text": [
            "The animal makes a sound.\n",
            "Bark!\n"
          ]
        }
      ],
      "source": [
        "# Code:\n",
        "\n",
        "# Parent class\n",
        "class Animal:\n",
        "    def speak(self):\n",
        "        print(\"The animal makes a sound.\")\n",
        "\n",
        "# Child class\n",
        "class Dog(Animal):\n",
        "    def speak(self):\n",
        "        print(\"Bark!\")\n",
        "\n",
        "# Example usage\n",
        "a = Animal()\n",
        "a.speak()  # Output: The animal makes a sound.\n",
        "\n",
        "d = Dog()\n",
        "d.speak()  # Output: Bark!\n"
      ]
    },
    {
      "cell_type": "markdown",
      "source": [
        "  Explanation:\n",
        "  \n",
        "  - Animal is the parent class with a method speak() that prints a generic message.\n",
        "  - Dog is a subclass (child class) of Animal and overrides the speak() method to provide specific behavior (\"Bark!\").\n",
        "  - When you call speak() on an instance of Dog, it uses the overridden method.\n",
        "\n",
        "\n",
        "\n",
        "\n",
        "\n",
        "\n",
        "\n",
        "\n",
        "\n"
      ],
      "metadata": {
        "id": "MqT3pDpYugVT"
      }
    },
    {
      "cell_type": "markdown",
      "source": [
        "Q2. Write a program to create an abstract class Shape with a method area(). Derive classes Circle and Rectangle\n",
        "from it and implement the area() method in both.\n",
        "\n",
        "\n",
        "  - Here's a Python program that defines an abstract class Shape with an abstract method area(), and then implements two derived classes Circle and Rectangle that override the area() method:"
      ],
      "metadata": {
        "id": "FkqyDaz4ux_8"
      }
    },
    {
      "cell_type": "code",
      "source": [
        "# Code:\n",
        "\n",
        "from abc import ABC, abstractmethod\n",
        "import math\n",
        "\n",
        "# Abstract class\n",
        "class Shape(ABC):\n",
        "    @abstractmethod\n",
        "    def area(self):\n",
        "        pass\n",
        "\n",
        "# Derived class for Circle\n",
        "class Circle(Shape):\n",
        "    def __init__(self, radius):\n",
        "        self.radius = radius\n",
        "\n",
        "    def area(self):\n",
        "        return math.pi * self.radius * self.radius\n",
        "\n",
        "# Derived class for Rectangle\n",
        "class Rectangle(Shape):\n",
        "    def __init__(self, width, height):\n",
        "        self.width = width\n",
        "        self.height = height\n",
        "\n",
        "    def area(self):\n",
        "        return self.width * self.height\n",
        "\n",
        "# Example usage\n",
        "circle = Circle(5)\n",
        "rectangle = Rectangle(4, 6)\n",
        "\n",
        "print(\"Area of Circle:\", circle.area())\n",
        "print(\"Area of Rectangle:\", rectangle.area())\n"
      ],
      "metadata": {
        "colab": {
          "base_uri": "https://localhost:8080/"
        },
        "id": "aDKntrtLufbf",
        "outputId": "44e55855-0305-4595-bb9b-fc4a2abebbed"
      },
      "execution_count": 2,
      "outputs": [
        {
          "output_type": "stream",
          "name": "stdout",
          "text": [
            "Area of Circle: 78.53981633974483\n",
            "Area of Rectangle: 24\n"
          ]
        }
      ]
    },
    {
      "cell_type": "markdown",
      "source": [
        "Explanation:\n",
        "\n",
        "- Shape is an abstract class with an abstract method area() which must be implemented by any subclass.\n",
        "- Circle and Rectangle inherit from Shape and provide their own implementation of the area() method.\n",
        "- The math.pi constant is used for accurate π value in the circle area calculation.\n",
        "\n"
      ],
      "metadata": {
        "id": "FOAcwFzbvCWN"
      }
    },
    {
      "cell_type": "markdown",
      "source": [
        "Q3.  Implement a multi-level inheritance scenario where a class Vehicle has an attribute type. Derive a class Car\n",
        "and further derive a class ElectricCar that adds a battery attribute.\n",
        "\n",
        "- Here's a Python program demonstrating multi-level inheritance with the classes Vehicle, Car, and ElectricCar:"
      ],
      "metadata": {
        "id": "0Ls3Ihc7vOCd"
      }
    },
    {
      "cell_type": "code",
      "source": [
        "# Code:\n",
        "\n",
        "# Base class\n",
        "class Vehicle:\n",
        "    def __init__(self, vehicle_type):\n",
        "        self.vehicle_type = vehicle_type\n",
        "\n",
        "    def display_type(self):\n",
        "        print(\"Vehicle Type:\", self.vehicle_type)\n",
        "\n",
        "# Derived class from Vehicle\n",
        "class Car(Vehicle):\n",
        "    def __init__(self, vehicle_type, brand):\n",
        "        super().__init__(vehicle_type)\n",
        "        self.brand = brand\n",
        "\n",
        "    def display_brand(self):\n",
        "        print(\"Car Brand:\", self.brand)\n",
        "\n",
        "# Further derived class from Car\n",
        "class ElectricCar(Car):\n",
        "    def __init__(self, vehicle_type, brand, battery_capacity):\n",
        "        super().__init__(vehicle_type, brand)\n",
        "        self.battery_capacity = battery_capacity\n",
        "\n",
        "    def display_battery(self):\n",
        "        print(\"Battery Capacity:\", self.battery_capacity, \"kWh\")\n",
        "\n",
        "# Create an object of ElectricCar\n",
        "my_electric_car = ElectricCar(\"Four Wheeler\", \"Tesla\", 75)\n",
        "\n",
        "# Call methods to display information\n",
        "my_electric_car.display_type()\n",
        "my_electric_car.display_brand()\n",
        "my_electric_car.display_battery()\n"
      ],
      "metadata": {
        "colab": {
          "base_uri": "https://localhost:8080/"
        },
        "id": "1_t48NI5u-G6",
        "outputId": "67b78749-c0b0-455e-d5a7-ad7e577b60d8"
      },
      "execution_count": 3,
      "outputs": [
        {
          "output_type": "stream",
          "name": "stdout",
          "text": [
            "Vehicle Type: Four Wheeler\n",
            "Car Brand: Tesla\n",
            "Battery Capacity: 75 kWh\n"
          ]
        }
      ]
    },
    {
      "cell_type": "markdown",
      "source": [
        "Explanation:\n",
        "\n",
        "- Vehicle is the base class with an attribute vehicle_type.\n",
        "- Car is derived from Vehicle and adds a new attribute brand.\n",
        "- ElectricCar is derived from Car and adds a new attribute battery_capacity.\n",
        "\n"
      ],
      "metadata": {
        "id": "UeGWKOzwvdbV"
      }
    },
    {
      "cell_type": "markdown",
      "source": [
        "Q4.  Demonstrate polymorphism by creating a base class Bird with a method fly(). Create two derived classes\n",
        "Sparrow and Penguin that override the fly() method.\n",
        "\n",
        "- Sure! Here's how you can demonstrate polymorphism in Python using a base class Bird and two derived classes Sparrow and Penguin that override the fly() method:\n",
        "\n"
      ],
      "metadata": {
        "id": "Hho7UNyPvn-j"
      }
    },
    {
      "cell_type": "code",
      "source": [
        "# Code:\n",
        "\n",
        "# Base class\n",
        "class Bird:\n",
        "    def fly(self):\n",
        "        print(\"This bird can fly.\")\n",
        "\n",
        "# Derived class Sparrow\n",
        "class Sparrow(Bird):\n",
        "    def fly(self):\n",
        "        print(\"Sparrow flies high in the sky.\")\n",
        "\n",
        "# Derived class Penguin\n",
        "class Penguin(Bird):\n",
        "    def fly(self):\n",
        "        print(\"Penguins cannot fly, but they swim very well.\")\n",
        "\n",
        "# Demonstration of polymorphism\n",
        "def show_flying_ability(bird):\n",
        "    bird.fly()\n",
        "\n",
        "# Create instances of each class\n",
        "bird1 = Sparrow()\n",
        "bird2 = Penguin()\n",
        "\n",
        "# Call the fly method using polymorphism\n",
        "show_flying_ability(bird1)   # Output: Sparrow flies high in the sky.\n",
        "show_flying_ability(bird2)   # Output: Penguins cannot fly, but they swim very well.\n"
      ],
      "metadata": {
        "colab": {
          "base_uri": "https://localhost:8080/"
        },
        "id": "4jG_3m0KvZWI",
        "outputId": "57580005-da25-40f7-86a4-428477eab5e0"
      },
      "execution_count": 4,
      "outputs": [
        {
          "output_type": "stream",
          "name": "stdout",
          "text": [
            "Sparrow flies high in the sky.\n",
            "Penguins cannot fly, but they swim very well.\n"
          ]
        }
      ]
    },
    {
      "cell_type": "markdown",
      "source": [
        "Explanation:\n",
        "\n",
        "- Bird is the base class with a general fly() method.\n",
        "- Sparrow and Penguin both inherit from Bird and override the fly() method to provide their own specific behavior.\n",
        "- The function show_flying_ability() accepts any Bird object, and due to polymorphism, it will call the correct fly() method based on the actual object type.\n",
        "\n"
      ],
      "metadata": {
        "id": "YE89kH6jv3w9"
      }
    },
    {
      "cell_type": "markdown",
      "source": [
        "Q5.  Write a program to demonstrate encapsulation by creating a class BankAccount with private attributes\n",
        "balance and methods to deposit, withdraw, and check balance.\n",
        "\n",
        "- Here's a Python program demonstrating encapsulation using a class BankAccount with private attributes and public methods:"
      ],
      "metadata": {
        "id": "zOWbMxp1wCr0"
      }
    },
    {
      "cell_type": "code",
      "source": [
        "# Code:\n",
        "\n",
        "class BankAccount:\n",
        "    def __init__(self, initial_balance=0):\n",
        "        self.__balance = initial_balance  # Private attribute\n",
        "\n",
        "    def deposit(self, amount):\n",
        "        if amount > 0:\n",
        "            self.__balance += amount\n",
        "            print(f\"Deposited ₹{amount}.\")\n",
        "        else:\n",
        "            print(\"Deposit amount must be positive.\")\n",
        "\n",
        "    def withdraw(self, amount):\n",
        "        if 0 < amount <= self.__balance:\n",
        "            self.__balance -= amount\n",
        "            print(f\"Withdrew ₹{amount}.\")\n",
        "        else:\n",
        "            print(\"Insufficient balance or invalid amount.\")\n",
        "\n",
        "    def check_balance(self):\n",
        "        print(f\"Current balance: ₹{self.__balance}\")\n",
        "\n",
        "# Usage\n",
        "account = BankAccount(1000)  # Opening account with ₹1000\n",
        "account.deposit(500)\n",
        "account.withdraw(300)\n",
        "account.check_balance()\n",
        "\n",
        "# Trying to access private variable directly (will raise error)\n",
        "# print(account.__balance)  # Uncommenting this will raise an AttributeError\n"
      ],
      "metadata": {
        "colab": {
          "base_uri": "https://localhost:8080/"
        },
        "id": "ond0hZ60v0yY",
        "outputId": "a70aef7f-8209-4a84-8499-23123274c265"
      },
      "execution_count": 5,
      "outputs": [
        {
          "output_type": "stream",
          "name": "stdout",
          "text": [
            "Deposited ₹500.\n",
            "Withdrew ₹300.\n",
            "Current balance: ₹1200\n"
          ]
        }
      ]
    },
    {
      "cell_type": "markdown",
      "source": [
        "Key Concepts Used:\n",
        "\n",
        "- __balance is a private attribute, accessible only within the class.\n",
        "- Methods deposit, withdraw, and check_balance allow controlled access to the private data, which is the core idea of encapsulation.\n",
        "\n"
      ],
      "metadata": {
        "id": "flDBod8XwP3L"
      }
    },
    {
      "cell_type": "code",
      "source": [],
      "metadata": {
        "id": "1MrP9Q9CwNVQ"
      },
      "execution_count": null,
      "outputs": []
    },
    {
      "cell_type": "markdown",
      "source": [
        "Q6.  Demonstrate runtime polymorphism using a method play() in a base class Instrument. Derive classes Guitar\n",
        "and Piano that implement their own version of play().\n",
        "\n",
        "- Here's a Python program that demonstrates runtime polymorphism using a method play() in a base class Instrument, and two derived classes Guitar and Piano, each overriding the play() method:\n"
      ],
      "metadata": {
        "id": "EK3252zUwXTl"
      }
    },
    {
      "cell_type": "code",
      "source": [
        "# Code:\n",
        "\n",
        "# Base class\n",
        "class Instrument:\n",
        "    def play(self):\n",
        "        print(\"Playing the instrument\")\n",
        "\n",
        "# Derived class 1\n",
        "class Guitar(Instrument):\n",
        "    def play(self):\n",
        "        print(\"Strumming the guitar\")\n",
        "\n",
        "# Derived class 2\n",
        "class Piano(Instrument):\n",
        "    def play(self):\n",
        "        print(\"Playing the piano keys\")\n",
        "\n",
        "# Function to demonstrate runtime polymorphism\n",
        "def play_instrument(instrument):\n",
        "    instrument.play()  # This will call the overridden method at runtime\n",
        "\n",
        "# Creating objects of derived classes\n",
        "guitar = Guitar()\n",
        "piano = Piano()\n",
        "\n",
        "# Calling the function with different instruments\n",
        "play_instrument(guitar)  # Output: Strumming the guitar\n",
        "play_instrument(piano)   # Output: Playing the piano keys\n"
      ],
      "metadata": {
        "colab": {
          "base_uri": "https://localhost:8080/"
        },
        "id": "ug81ak3Dwg7s",
        "outputId": "59d0ef26-57a7-4af4-9550-c4ebe0e316e6"
      },
      "execution_count": 6,
      "outputs": [
        {
          "output_type": "stream",
          "name": "stdout",
          "text": [
            "Strumming the guitar\n",
            "Playing the piano keys\n"
          ]
        }
      ]
    },
    {
      "cell_type": "markdown",
      "source": [
        "Explanation:\n",
        "\n",
        "- Base Class: Instrument defines a generic play() method.\n",
        "- Derived Classes: Guitar and Piano override the play() method to provide their own behavior.\n",
        "- Polymorphism: The play_instrument() function accepts any object of type Instrument and calls play(). At runtime, Python chooses the correct play() method based on the object type — demonstrating runtime polymorphism.\n",
        "\n",
        "\n"
      ],
      "metadata": {
        "id": "Jm0Ima25wpnM"
      }
    },
    {
      "cell_type": "markdown",
      "source": [
        "Q7. Create a class MathOperations with a class method add_numbers() to add two numbers and a static\n",
        "method subtract_numbers() to subtract two numbers.\n",
        "\n",
        "- Here's how you can define a MathOperations class in Python with a class method add_numbers() and a static method subtract_numbers():"
      ],
      "metadata": {
        "id": "6WPxoCi7wzG0"
      }
    },
    {
      "cell_type": "code",
      "source": [
        "# Code:\n",
        "\n",
        "class MathOperations:\n",
        "    @classmethod\n",
        "    def add_numbers(cls, a, b):\n",
        "        return a + b\n",
        "\n",
        "    @staticmethod\n",
        "    def subtract_numbers(a, b):\n",
        "        return a - b\n",
        "\n",
        "# Example usage\n",
        "print(\"Addition:\", MathOperations.add_numbers(10, 5))     # Output: 15\n",
        "print(\"Subtraction:\", MathOperations.subtract_numbers(10, 5))  # Output: 5\n"
      ],
      "metadata": {
        "colab": {
          "base_uri": "https://localhost:8080/"
        },
        "id": "Al5oql5swk9V",
        "outputId": "2e753f69-6582-4fdc-8980-9c4e9d91df9f"
      },
      "execution_count": 7,
      "outputs": [
        {
          "output_type": "stream",
          "name": "stdout",
          "text": [
            "Addition: 15\n",
            "Subtraction: 5\n"
          ]
        }
      ]
    },
    {
      "cell_type": "markdown",
      "source": [
        "Explanation:\n",
        "\n",
        "- @classmethod allows access to the class (cls) itself and is typically used when you need to work with class-level data.\n",
        "- @staticmethod does not take self or cls and is used when the method does not modify the class or instance state.\n",
        "\n"
      ],
      "metadata": {
        "id": "QjZkjAyexCc9"
      }
    },
    {
      "cell_type": "code",
      "source": [],
      "metadata": {
        "id": "mhl0EPL0xAwv"
      },
      "execution_count": null,
      "outputs": []
    },
    {
      "cell_type": "markdown",
      "source": [
        "Q8. Implement a class Person with a class method to count the total number of persons created.\n",
        "\n",
        "- Here's how you can implement a Person class in Python with a class method that keeps track of the total number of Person objects created:\n"
      ],
      "metadata": {
        "id": "IgtVLO1jxMUL"
      }
    },
    {
      "cell_type": "code",
      "source": [
        "# code:\n",
        "\n",
        "class Person:\n",
        "    # Class variable to keep count of Person objects\n",
        "    count = 0\n",
        "\n",
        "    def __init__(self, name):\n",
        "        self.name = name\n",
        "        # Increment the class variable whenever a new object is created\n",
        "        Person.count += 1\n",
        "\n",
        "    @classmethod\n",
        "    def get_person_count(cls):\n",
        "        # Class method to return the count\n",
        "        return cls.count\n",
        "\n",
        "\n",
        "# Example usage\n",
        "p1 = Person(\"Alice\")\n",
        "p2 = Person(\"Bob\")\n",
        "p3 = Person(\"Charlie\")\n",
        "\n",
        "print(\"Total persons created:\", Person.get_person_count())\n"
      ],
      "metadata": {
        "colab": {
          "base_uri": "https://localhost:8080/"
        },
        "id": "TkbtHlIhxY5k",
        "outputId": "f0dbc844-a73a-44a2-8431-7f14f48154b6"
      },
      "execution_count": 8,
      "outputs": [
        {
          "output_type": "stream",
          "name": "stdout",
          "text": [
            "Total persons created: 3\n"
          ]
        }
      ]
    },
    {
      "cell_type": "markdown",
      "source": [
        "Explanation:\n",
        "\n",
        "- count is a class variable, shared among all instances.\n",
        "- Each time a Person is created, the constructor (__init__) increases count.\n",
        "- get_person_count() is a class method (marked with @classmethod) that accesses the shared count variable.\n",
        "\n",
        "\n",
        "\n",
        "\n",
        "\n",
        "\n",
        "\n",
        "\n",
        "\n"
      ],
      "metadata": {
        "id": "i2WGSBhaxelM"
      }
    },
    {
      "cell_type": "markdown",
      "source": [
        "Q9. Write a class Fraction with attributes numerator and denominator. Override the str method to display the\n",
        "fraction as \"numerator/denominator\".\n",
        "\n",
        "- Here's how you can write a Fraction class in Python with attributes numerator and denominator, and override the __str__ method to display the fraction in \"numerator/denominator\" format:"
      ],
      "metadata": {
        "id": "ppjTxIKPxpGz"
      }
    },
    {
      "cell_type": "code",
      "source": [
        "# code:\n",
        "\n",
        "class Fraction:\n",
        "    def __init__(self, numerator, denominator):\n",
        "        self.numerator = numerator\n",
        "        self.denominator = denominator\n",
        "\n",
        "    def __str__(self):\n",
        "        return f\"{self.numerator}/{self.denominator}\"\n",
        "\n",
        "# Example usage\n",
        "f = Fraction(3, 4)\n",
        "print(f)  # Output: 3/4\n"
      ],
      "metadata": {
        "colab": {
          "base_uri": "https://localhost:8080/"
        },
        "id": "WQg3MxNqxa71",
        "outputId": "cbc60d61-11f7-4a60-ec3d-9a8b6d88d920"
      },
      "execution_count": 9,
      "outputs": [
        {
          "output_type": "stream",
          "name": "stdout",
          "text": [
            "3/4\n"
          ]
        }
      ]
    },
    {
      "cell_type": "markdown",
      "source": [
        "Explanation:\n",
        "\n",
        "- __init__: Initializes the object with numerator and denominator.\n",
        "- __str__: This special method is used when you print the object. It returns the string \"numerator/denominator\".\n",
        "\n"
      ],
      "metadata": {
        "id": "9v3wqHLox2st"
      }
    },
    {
      "cell_type": "markdown",
      "source": [
        "Q10.  Demonstrate operator overloading by creating a class Vector and overriding the add method to add two\n",
        "vectors.\n",
        "\n",
        "- Here's a Python example demonstrating operator overloading using a class Vector. We override the __add__ method to allow the use of the + operator to add two vectors:"
      ],
      "metadata": {
        "id": "MI-C4B-Xx-dj"
      }
    },
    {
      "cell_type": "code",
      "source": [
        "# Code:\n",
        "\n",
        "class Vector:\n",
        "    def __init__(self, x, y):\n",
        "        self.x = x\n",
        "        self.y = y\n",
        "\n",
        "    # Overloading the + operator\n",
        "    def __add__(self, other):\n",
        "        return Vector(self.x + other.x, self.y + other.y)\n",
        "\n",
        "    # String representation for printing\n",
        "    def __str__(self):\n",
        "        return f\"Vector({self.x}, {self.y})\"\n",
        "\n",
        "# Example usage\n",
        "v1 = Vector(3, 4)\n",
        "v2 = Vector(1, 2)\n",
        "\n",
        "v3 = v1 + v2  # This will call v1.__add__(v2)\n",
        "print(v3)     # Output: Vector(4, 6)\n",
        "\n"
      ],
      "metadata": {
        "colab": {
          "base_uri": "https://localhost:8080/"
        },
        "id": "08tXAnVMx0Hm",
        "outputId": "dafb694e-9544-4ff2-b5c0-50ca30a12082"
      },
      "execution_count": 10,
      "outputs": [
        {
          "output_type": "stream",
          "name": "stdout",
          "text": [
            "Vector(4, 6)\n"
          ]
        }
      ]
    },
    {
      "cell_type": "markdown",
      "source": [
        "Explanation:\n",
        "\n",
        "- __add__ is the special method used to define behavior for the + operator.\n",
        "- We add corresponding components of the vectors.\n",
        "- __str__ is overridden to display the vector in a readable format when printed.\n",
        "\n"
      ],
      "metadata": {
        "id": "tUuosQXUyML0"
      }
    },
    {
      "cell_type": "markdown",
      "source": [
        "Q11.  Create a class Person with attributes name and age. Add a method greet() that prints \"Hello, my name is\n",
        "{name} and I am {age} years old.\"\n",
        "\n",
        "\n",
        "\n",
        "- Here's how you can define a class Person in Python with the attributes name and age, and a method greet():\n"
      ],
      "metadata": {
        "id": "K55t2pvzyWkt"
      }
    },
    {
      "cell_type": "code",
      "source": [
        "# Code:\n",
        "\n",
        "class Person:\n",
        "    def __init__(self, name, age):\n",
        "        self.name = name\n",
        "        self.age = age\n",
        "\n",
        "    def greet(self):\n",
        "        print(f\"Hello, my name is {self.name} and I am {self.age} years old.\")\n"
      ],
      "metadata": {
        "id": "3bmcaoGayJcW"
      },
      "execution_count": 12,
      "outputs": []
    },
    {
      "cell_type": "code",
      "source": [
        "# Example usage:\n",
        "\n",
        "person1 = Person(\"Chetan\", 25)\n",
        "person1.greet()\n"
      ],
      "metadata": {
        "colab": {
          "base_uri": "https://localhost:8080/"
        },
        "id": "Z04WxYgEyoSG",
        "outputId": "74d689ca-f359-4e56-b9a6-85dbd3c8027c"
      },
      "execution_count": 13,
      "outputs": [
        {
          "output_type": "stream",
          "name": "stdout",
          "text": [
            "Hello, my name is Chetan and I am 25 years old.\n"
          ]
        }
      ]
    },
    {
      "cell_type": "markdown",
      "source": [
        "Q12. Implement a class Student with attributes name and grades. Create a method average_grade() to compute\n",
        "the average of the grades.\n",
        "\n",
        "- Here's a Python implementation of the Student class with name and grades attributes, along with the average_grade() method:"
      ],
      "metadata": {
        "id": "WDppTT5FyzRO"
      }
    },
    {
      "cell_type": "code",
      "source": [
        "# Code:\n",
        "\n",
        "class Student:\n",
        "    def __init__(self, name, grades):\n",
        "        self.name = name\n",
        "        self.grades = grades  # Expecting a list of numbers\n",
        "\n",
        "    def average_grade(self):\n",
        "        if not self.grades:\n",
        "            return 0\n",
        "        return sum(self.grades) / len(self.grades)\n",
        "\n",
        "# Example usage:\n",
        "student1 = Student(\"Chetan\", [85, 90, 78, 92])\n",
        "print(f\"{student1.name}'s average grade: {student1.average_grade():.2f}\")\n"
      ],
      "metadata": {
        "colab": {
          "base_uri": "https://localhost:8080/"
        },
        "id": "PFaFffxoyvEt",
        "outputId": "356514e6-04ef-454c-d9df-e1109daadf43"
      },
      "execution_count": 14,
      "outputs": [
        {
          "output_type": "stream",
          "name": "stdout",
          "text": [
            "Chetan's average grade: 86.25\n"
          ]
        }
      ]
    },
    {
      "cell_type": "markdown",
      "source": [
        "Explanation:\n",
        "\n",
        "- __init__ initializes the student's name and list of grades.\n",
        "- average_grade() calculates the average by dividing the sum of grades by the number of grades.\n",
        "- A check ensures it handles the case where grades is an empty list.\n",
        "\n"
      ],
      "metadata": {
        "id": "LNr1-5WLy_5s"
      }
    },
    {
      "cell_type": "markdown",
      "source": [
        "Q13. Create a class Rectangle with methods set_dimensions() to set the dimensions and area() to calculate the\n",
        "area.\n",
        "\n",
        "- Here's a simple Python class Rectangle with the required methods:\n"
      ],
      "metadata": {
        "id": "llLib1JUzMUk"
      }
    },
    {
      "cell_type": "code",
      "source": [
        "# Code:\n",
        "\n",
        "class Rectangle:\n",
        "    def __init__(self):\n",
        "        self.length = 0\n",
        "        self.width = 0\n",
        "\n",
        "    def set_dimensions(self, length, width):\n",
        "        self.length = length\n",
        "        self.width = width\n",
        "\n",
        "    def area(self):\n",
        "        return self.length * self.width\n",
        "\n",
        "\n",
        "# Example usage:\n",
        "rect = Rectangle()\n",
        "rect.set_dimensions(5, 3)\n",
        "print(\"Area of rectangle:\", rect.area())\n"
      ],
      "metadata": {
        "colab": {
          "base_uri": "https://localhost:8080/"
        },
        "id": "CQzDyZv4y9M8",
        "outputId": "c04e5338-524b-4920-819c-3e12f856da3a"
      },
      "execution_count": 15,
      "outputs": [
        {
          "output_type": "stream",
          "name": "stdout",
          "text": [
            "Area of rectangle: 15\n"
          ]
        }
      ]
    },
    {
      "cell_type": "markdown",
      "source": [
        "Explanation:\n",
        "\n",
        "- __init__() initializes length and width to 0.\n",
        "- set_dimensions(length, width) sets the values.\n",
        "- area() returns the area of the rectangle (length * width).\n",
        "\n"
      ],
      "metadata": {
        "id": "UZkzPlB4zbL2"
      }
    },
    {
      "cell_type": "markdown",
      "source": [
        "Q14.  Create a class Employee with a method calculate_salary() that computes the salary based on hours worked\n",
        "and hourly rate. Create a derived class Manager that adds a bonus to the salary.\n",
        "\n",
        "- Here’s a Python implementation of the Employee class with a calculate_salary() method, and a derived class Manager that adds a bonus to the salary:"
      ],
      "metadata": {
        "id": "f5x2ncTRzlyM"
      }
    },
    {
      "cell_type": "code",
      "source": [
        "# Code:\n",
        "\n",
        "# Base class\n",
        "class Employee:\n",
        "    def __init__(self, name, hours_worked, hourly_rate):\n",
        "        self.name = name\n",
        "        self.hours_worked = hours_worked\n",
        "        self.hourly_rate = hourly_rate\n",
        "\n",
        "    def calculate_salary(self):\n",
        "        salary = self.hours_worked * self.hourly_rate\n",
        "        return salary\n",
        "\n",
        "# Derived class\n",
        "class Manager(Employee):\n",
        "    def __init__(self, name, hours_worked, hourly_rate, bonus):\n",
        "        super().__init__(name, hours_worked, hourly_rate)\n",
        "        self.bonus = bonus\n",
        "\n",
        "    def calculate_salary(self):\n",
        "        base_salary = super().calculate_salary()\n",
        "        total_salary = base_salary + self.bonus\n",
        "        return total_salary\n",
        "\n",
        "# Example usage\n",
        "emp = Employee(\"John\", 40, 25)\n",
        "print(f\"Employee Salary: {emp.calculate_salary()}\")\n",
        "\n",
        "mgr = Manager(\"Alice\", 40, 30, 500)\n",
        "print(f\"Manager Salary (with bonus): {mgr.calculate_salary()}\")\n"
      ],
      "metadata": {
        "colab": {
          "base_uri": "https://localhost:8080/"
        },
        "id": "yFyvy6MNzXf9",
        "outputId": "bb303210-a169-4cee-b549-f348e8edcc5c"
      },
      "execution_count": 16,
      "outputs": [
        {
          "output_type": "stream",
          "name": "stdout",
          "text": [
            "Employee Salary: 1000\n",
            "Manager Salary (with bonus): 1700\n"
          ]
        }
      ]
    },
    {
      "cell_type": "markdown",
      "source": [
        "Q15. Create a class Product with attributes name, price, and quantity. Implement a method total_price() that\n",
        "calculates the total price of the product.\n",
        "\n",
        "\n",
        "- Here's how you can create a Python class Product with name, price, and quantity attributes, along with a total_price() method to calculate the total price:"
      ],
      "metadata": {
        "id": "CQZqZWouz9Al"
      }
    },
    {
      "cell_type": "code",
      "source": [
        "# Code:\n",
        "\n",
        "class Product:\n",
        "    def __init__(self, name, price, quantity):\n",
        "        self.name = name          # Name of the product\n",
        "        self.price = price        # Price per unit\n",
        "        self.quantity = quantity  # Number of units\n",
        "\n",
        "    def total_price(self):\n",
        "        return self.price * self.quantity\n",
        "\n",
        "\n",
        "# Example usage:\n",
        "product1 = Product(\"Laptop\", 50000, 2)\n",
        "print(\"Product:\", product1.name)\n",
        "print(\"Total Price:\", product1.total_price())\n"
      ],
      "metadata": {
        "colab": {
          "base_uri": "https://localhost:8080/"
        },
        "id": "EFZX5ZnVz4KU",
        "outputId": "17b7ab6d-7488-44ff-90f6-84e96e3a734e"
      },
      "execution_count": 17,
      "outputs": [
        {
          "output_type": "stream",
          "name": "stdout",
          "text": [
            "Product: Laptop\n",
            "Total Price: 100000\n"
          ]
        }
      ]
    },
    {
      "cell_type": "markdown",
      "source": [
        "Q16.  Create a class Animal with an abstract method sound(). Create two derived classes Cow and Sheep that\n",
        "implement the sound() method.\n",
        "\n",
        "- Here's how you can define a base abstract class Animal with an abstract method sound() and two derived classes Cow and Sheep that implement the sound() method, using Python:"
      ],
      "metadata": {
        "id": "TYjnD8YJ0LVU"
      }
    },
    {
      "cell_type": "code",
      "source": [
        "# Code:\n",
        "\n",
        "from abc import ABC, abstractmethod\n",
        "\n",
        "# Abstract base class\n",
        "class Animal(ABC):\n",
        "\n",
        "    @abstractmethod\n",
        "    def sound(self):\n",
        "        pass\n",
        "\n",
        "# Derived class Cow\n",
        "class Cow(Animal):\n",
        "    def sound(self):\n",
        "        return \"Moo\"\n",
        "\n",
        "# Derived class Sheep\n",
        "class Sheep(Animal):\n",
        "    def sound(self):\n",
        "        return \"Baa\"\n",
        "\n",
        "# Testing the classes\n",
        "cow = Cow()\n",
        "sheep = Sheep()\n",
        "\n",
        "print(\"Cow sound:\", cow.sound())    # Output: Moo\n",
        "print(\"Sheep sound:\", sheep.sound())  # Output: Baa\n"
      ],
      "metadata": {
        "colab": {
          "base_uri": "https://localhost:8080/"
        },
        "id": "vzeKyru00ISs",
        "outputId": "32d7dc01-001d-49ac-aed7-2657689e0a49"
      },
      "execution_count": 18,
      "outputs": [
        {
          "output_type": "stream",
          "name": "stdout",
          "text": [
            "Cow sound: Moo\n",
            "Sheep sound: Baa\n"
          ]
        }
      ]
    },
    {
      "cell_type": "markdown",
      "source": [
        "Explanation:\n",
        "\n",
        "- Animal is an abstract class, which means it cannot be instantiated directly.\n",
        "- @abstractmethod decorator is used to declare sound() as an abstract method.\n",
        "- Cow and Sheep both inherit from Animal and provide their own implementation of sound().\n",
        "\n",
        "\n"
      ],
      "metadata": {
        "id": "gCgcGbuy0Yn7"
      }
    },
    {
      "cell_type": "markdown",
      "source": [
        "Q17. Create a class Book with attributes title, author, and year_published. Add a method get_book_info() that\n",
        "returns a formatted string with the book's details.\n",
        "\n",
        "\n",
        "- Here's how you can create a Book class in Python with the attributes title, author, and year_published, and a method get_book_info() that returns a formatted string:"
      ],
      "metadata": {
        "id": "vRn4kn6G0hHc"
      }
    },
    {
      "cell_type": "code",
      "source": [
        "# Code:\n",
        "\n",
        "class Book:\n",
        "    def __init__(self, title, author, year_published):\n",
        "        self.title = title\n",
        "        self.author = author\n",
        "        self.year_published = year_published\n",
        "\n",
        "    def get_book_info(self):\n",
        "        return f\"'{self.title}' by {self.author} (Published in {self.year_published})\"\n"
      ],
      "metadata": {
        "id": "9UGbakFV0V-U"
      },
      "execution_count": 20,
      "outputs": []
    },
    {
      "cell_type": "code",
      "source": [
        "# Example usage:\n",
        "\n",
        "\n",
        "my_book = Book(\"To Kill a Mockingbird\", \"Harper Lee\", 1960)\n",
        "print(my_book.get_book_info())\n"
      ],
      "metadata": {
        "colab": {
          "base_uri": "https://localhost:8080/"
        },
        "id": "VWhtH3YT0tKE",
        "outputId": "1ae48787-e6b8-4e9e-f31c-1b3d563224bd"
      },
      "execution_count": 21,
      "outputs": [
        {
          "output_type": "stream",
          "name": "stdout",
          "text": [
            "'To Kill a Mockingbird' by Harper Lee (Published in 1960)\n"
          ]
        }
      ]
    },
    {
      "cell_type": "markdown",
      "source": [
        "Q18. Create a class House with attributes address and price. Create a derived class Mansion that adds an\n",
        "attribute number_of_rooms.\n",
        "\n",
        "- Here is how you can define the House class and its derived class Mansion in Python:"
      ],
      "metadata": {
        "id": "7Sp7NUUJ04Yk"
      }
    },
    {
      "cell_type": "code",
      "source": [
        "# Code:\n",
        "\n",
        "# Base class\n",
        "class House:\n",
        "    def __init__(self, address, price):\n",
        "        self.address = address\n",
        "        self.price = price\n",
        "\n",
        "    def display_info(self):\n",
        "        print(f\"Address: {self.address}\")\n",
        "        print(f\"Price: {self.price}\")\n",
        "\n",
        "# Derived class\n",
        "class Mansion(House):\n",
        "    def __init__(self, address, price, number_of_rooms):\n",
        "        super().__init__(address, price)\n",
        "        self.number_of_rooms = number_of_rooms\n",
        "\n",
        "    def display_info(self):\n",
        "        super().display_info()\n",
        "        print(f\"Number of Rooms: {self.number_of_rooms}\")\n",
        "\n",
        "# Example usage\n",
        "m = Mansion(\"123 Luxury Lane\", 5000000, 10)\n",
        "m.display_info()\n"
      ],
      "metadata": {
        "colab": {
          "base_uri": "https://localhost:8080/"
        },
        "id": "DaSUGlmS0zNN",
        "outputId": "82995c1e-7b19-47c3-82cd-51872fe64fc2"
      },
      "execution_count": 22,
      "outputs": [
        {
          "output_type": "stream",
          "name": "stdout",
          "text": [
            "Address: 123 Luxury Lane\n",
            "Price: 5000000\n",
            "Number of Rooms: 10\n"
          ]
        }
      ]
    },
    {
      "cell_type": "markdown",
      "source": [
        "Explanation:\n",
        "\n",
        "- House is the base class with attributes address and price.\n",
        "- Mansion inherits from House and adds an additional attribute number_of_rooms.\n",
        "- The display_info method is used to print all the attributes.\n",
        "\n",
        "\n"
      ],
      "metadata": {
        "id": "S44DWL2E1Gn-"
      }
    },
    {
      "cell_type": "code",
      "source": [],
      "metadata": {
        "id": "8KotVzmF1Dd0"
      },
      "execution_count": null,
      "outputs": []
    }
  ]
}